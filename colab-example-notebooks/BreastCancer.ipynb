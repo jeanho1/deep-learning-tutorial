{
  "nbformat": 4,
  "nbformat_minor": 0,
  "metadata": {
    "colab": {
      "name": "BreastCancer.ipynb",
      "version": "0.3.2",
      "provenance": []
    },
    "kernelspec": {
      "name": "python3",
      "display_name": "Python 3"
    },
    "accelerator": "GPU"
  },
  "cells": [
    {
      "metadata": {
        "id": "Oex88qd38Thn",
        "colab_type": "text"
      },
      "cell_type": "markdown",
      "source": [
        "In this first cell we will upload the CSV files that contain the pre-sorted and pre-normalized data. \n",
        "For these I used the Wisconsin breast cancer dataset, sorted it into training and test sets with the 'input' values to the Neural Network as 'X' values, and the expected 'output' (a 0 if benign and a 1 if malignant) as the 'Y' values.\n"
      ]
    },
    {
      "metadata": {
        "id": "m_NRnXsJzphf",
        "colab_type": "code",
        "colab": {}
      },
      "cell_type": "code",
      "source": [
        "import pandas as pd\n",
        "\n",
        "# from google.colab import files\n",
        "# file = files.upload()\n",
        "X_train = pd.read_csv(\"xtrain.csv\", header=None)\n",
        "Y_train = pd.read_csv(\"ytrain.csv\", header=None)\n",
        "X_test = pd.read_csv(\"xtest.csv\", header=None)\n",
        "Y_test = pd.read_csv(\"ytest.csv\", header=None)"
      ],
      "execution_count": 0,
      "outputs": []
    },
    {
      "metadata": {
        "id": "bL4z0BArzqff",
        "colab_type": "text"
      },
      "cell_type": "markdown",
      "source": [
        "Now I'm going to use Keras to define a Neural network that will be trained off of this data. This Neural Network can then be used to predict future values for breast cancer presence. "
      ]
    },
    {
      "metadata": {
        "id": "LoWtmalR80De",
        "colab_type": "code",
        "outputId": "effdeb92-7d86-42c2-ce2e-d9599d98307a",
        "colab": {
          "base_uri": "https://localhost:8080/",
          "height": 105
        }
      },
      "cell_type": "code",
      "source": [
        "from keras.models import Sequential\n",
        "from keras.layers import Dense\n",
        "\n",
        "classifier = Sequential() # Initialising the ANN\n",
        "\n",
        "classifier.add(Dense(units = 16, activation = 'relu', input_dim = 30))\n",
        "classifier.add(Dense(units = 8, activation = 'relu'))\n",
        "classifier.add(Dense(units = 6, activation = 'relu'))\n",
        "classifier.add(Dense(units = 1, activation = 'sigmoid'))"
      ],
      "execution_count": 3,
      "outputs": [
        {
          "output_type": "stream",
          "text": [
            "Using TensorFlow backend.\n"
          ],
          "name": "stderr"
        },
        {
          "output_type": "stream",
          "text": [
            "WARNING:tensorflow:From /usr/local/lib/python3.6/dist-packages/tensorflow/python/framework/op_def_library.py:263: colocate_with (from tensorflow.python.framework.ops) is deprecated and will be removed in a future version.\n",
            "Instructions for updating:\n",
            "Colocations handled automatically by placer.\n"
          ],
          "name": "stdout"
        }
      ]
    },
    {
      "metadata": {
        "id": "cJ_MStxe9CbN",
        "colab_type": "text"
      },
      "cell_type": "markdown",
      "source": [
        "Once the Neural Network is defined, I now have to specify is the optimizer and loss function"
      ]
    },
    {
      "metadata": {
        "id": "wR2O00E39C7E",
        "colab_type": "code",
        "colab": {}
      },
      "cell_type": "code",
      "source": [
        "classifier.compile(optimizer = 'rmsprop', loss = 'binary_crossentropy')"
      ],
      "execution_count": 0,
      "outputs": []
    },
    {
      "metadata": {
        "id": "Mn9WPqaP9RmN",
        "colab_type": "text"
      },
      "cell_type": "markdown",
      "source": [
        "You now train the neural network using Classifier.fit, passing it the training data -- i.e. for this set of X, this is what the Y should look like. The NN will then spot the patterns in the data, and build a neural network that could replicate that. "
      ]
    },
    {
      "metadata": {
        "id": "1QlYnFgH9N49",
        "colab_type": "code",
        "outputId": "1b33db3c-bd7b-4dd7-ac7f-7d6b23239ca6",
        "colab": {
          "base_uri": "https://localhost:8080/",
          "height": 700
        }
      },
      "cell_type": "code",
      "source": [
        "classifier.fit(X_train, Y_train, batch_size = 1, epochs = 100)"
      ],
      "execution_count": 0,
      "outputs": [
        {
          "output_type": "stream",
          "text": [
            "WARNING:tensorflow:From /usr/local/lib/python3.6/dist-packages/tensorflow/python/ops/math_ops.py:3066: to_int32 (from tensorflow.python.ops.math_ops) is deprecated and will be removed in a future version.\n",
            "Instructions for updating:\n",
            "Use tf.cast instead.\n",
            "Epoch 1/100\n",
            "455/455 [==============================] - 5s 10ms/step - loss: 0.4442\n",
            "Epoch 2/100\n",
            "455/455 [==============================] - 2s 4ms/step - loss: 0.1200\n",
            "Epoch 3/100\n",
            "455/455 [==============================] - 2s 4ms/step - loss: 0.1019\n",
            "Epoch 4/100\n",
            "455/455 [==============================] - 2s 4ms/step - loss: 0.0977\n",
            "Epoch 5/100\n",
            "455/455 [==============================] - 2s 4ms/step - loss: 0.0985\n",
            "Epoch 6/100\n",
            "455/455 [==============================] - 2s 4ms/step - loss: 0.0960\n",
            "Epoch 7/100\n",
            "455/455 [==============================] - 2s 4ms/step - loss: 0.0912\n",
            "Epoch 8/100\n",
            "455/455 [==============================] - 2s 4ms/step - loss: 0.0954\n",
            "Epoch 9/100\n",
            "455/455 [==============================] - 2s 4ms/step - loss: 0.0906\n",
            "Epoch 10/100\n",
            "455/455 [==============================] - 2s 4ms/step - loss: 0.0920\n",
            "Epoch 11/100\n",
            "455/455 [==============================] - 2s 4ms/step - loss: 0.0915\n",
            "Epoch 12/100\n",
            "455/455 [==============================] - 2s 4ms/step - loss: 0.0928\n",
            "Epoch 13/100\n",
            "455/455 [==============================] - 2s 4ms/step - loss: 0.0878\n",
            "Epoch 14/100\n",
            "455/455 [==============================] - 2s 4ms/step - loss: 0.0803\n",
            "Epoch 15/100\n",
            "455/455 [==============================] - 2s 4ms/step - loss: 0.0811\n",
            "Epoch 16/100\n",
            "455/455 [==============================] - 2s 4ms/step - loss: 0.0825\n",
            "Epoch 17/100\n",
            "455/455 [==============================] - 2s 4ms/step - loss: 0.0826\n",
            "Epoch 18/100\n",
            " 90/455 [====>.........................] - ETA: 1s - loss: 0.1069"
          ],
          "name": "stdout"
        }
      ]
    },
    {
      "metadata": {
        "id": "yrnGgtfn9gsE",
        "colab_type": "text"
      },
      "cell_type": "markdown",
      "source": [
        "To predict new values, the Neural Network uses classifier.predict. I'm going to pass it the test values for X (which the Neural Network hasn't previously seen) and it will give me back a set of predictions. These predicitons will be probabilities, so I will clean them up by saying that if thye are greater than .5, I'll make them 1, else I'll make them 0."
      ]
    },
    {
      "metadata": {
        "id": "xEaG0Tkx9fUU",
        "colab_type": "code",
        "colab": {}
      },
      "cell_type": "code",
      "source": [
        "Y_pred = classifier.predict(X_test)\n",
        "Y_pred = [ 1 if y>=0.5 else 0 for y in Y_pred ]"
      ],
      "execution_count": 0,
      "outputs": []
    },
    {
      "metadata": {
        "id": "oQK3Qo9h97OW",
        "colab_type": "text"
      },
      "cell_type": "markdown",
      "source": [
        "Now we can loop through the set of predicitons for the test set (called Y_pred) and the actual values for the test set (celled Y_test), and see how alike they are -- if they are the same, I'll increment 'correct', otherwise I'll incrememnt 'wrong'. \n",
        "\n",
        "You'll see the result is 100% accurate, even though the neural network reported a lower accuracy than that. Why? "
      ]
    },
    {
      "metadata": {
        "id": "he_2VHJ_9yC1",
        "colab_type": "code",
        "outputId": "5690cf3a-4735-4ff1-c32b-96c1cfefe6f8",
        "colab": {
          "base_uri": "https://localhost:8080/",
          "height": 68
        }
      },
      "cell_type": "code",
      "source": [
        "total = 0\n",
        "correct = 0\n",
        "wrong = 0\n",
        "for i in Y_pred:\n",
        "  total=total+1\n",
        "  if(Y_test.at[i,0] == Y_pred[i]):\n",
        "    correct=correct+1\n",
        "  else:\n",
        "    wrong=wrong+1\n",
        "\n",
        "print(\"Total \" + str(total))\n",
        "print(\"Correct \" + str(correct))\n",
        "print(\"Wrong \" + str(wrong))"
      ],
      "execution_count": 0,
      "outputs": [
        {
          "output_type": "stream",
          "text": [
            "Total 114\n",
            "Correct 114\n",
            "Wrong 0\n"
          ],
          "name": "stdout"
        }
      ]
    }
  ]
}