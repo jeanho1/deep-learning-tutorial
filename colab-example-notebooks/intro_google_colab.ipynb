{
  "nbformat": 4,
  "nbformat_minor": 0,
  "metadata": {
    "colab": {
      "name": "intro-google-colab.ipynb",
      "version": "0.3.2",
      "provenance": [],
      "collapsed_sections": [],
      "include_colab_link": true
    },
    "kernelspec": {
      "name": "python3",
      "display_name": "Python 3"
    },
    "accelerator": "GPU"
  },
  "cells": [
    {
      "cell_type": "markdown",
      "metadata": {
        "id": "view-in-github",
        "colab_type": "text"
      },
      "source": [
        "<a href=\"https://colab.research.google.com/github/tuanavu/deep-learning-tutorial/blob/development/colab-example-notebooks/intro_google_colab.ipynb\" target=\"_parent\"><img src=\"https://colab.research.google.com/assets/colab-badge.svg\" alt=\"Open In Colab\"/></a>"
      ]
    },
    {
      "metadata": {
        "id": "29l_euTtXAFn",
        "colab_type": "text"
      },
      "cell_type": "markdown",
      "source": [
        "# Intro to Google Colaboratory"
      ]
    },
    {
      "metadata": {
        "id": "zuywjTB6WsIV",
        "colab_type": "text"
      },
      "cell_type": "markdown",
      "source": [
        "## Check System specification"
      ]
    },
    {
      "metadata": {
        "id": "9DrQWXR-qy6B",
        "colab_type": "code",
        "colab": {}
      },
      "cell_type": "code",
      "source": [
        "from tensorflow.python.client import device_lib\n",
        "\n",
        "print(\"Show System RAM Memory:\\n\\n\")\n",
        "!cat /proc/meminfo | egrep \"MemTotal*\"\n",
        "\n",
        "\n",
        "print(\"\\n\\nShow Devices:\\n\\n\"+str(device_lib.list_local_devices()))"
      ],
      "execution_count": 0,
      "outputs": []
    },
    {
      "metadata": {
        "id": "y-oURlt9W6La",
        "colab_type": "text"
      },
      "cell_type": "markdown",
      "source": [
        "## Check tensorflow execution"
      ]
    },
    {
      "metadata": {
        "id": "moGt_PcZXNia",
        "colab_type": "code",
        "outputId": "bbaaa4a2-77c1-437f-cab4-cd1273c5ec00",
        "colab": {
          "base_uri": "https://localhost:8080/",
          "height": 51
        }
      },
      "cell_type": "code",
      "source": [
        "import tensorflow as tf\n",
        "\n",
        "input1 = tf.ones((2, 3))\n",
        "input2 = tf.reshape(tf.range(1, 7, dtype=tf.float32), (2, 3))\n",
        "output = input1 + input2\n",
        "\n",
        "with tf.Session():\n",
        "  result = output.eval()\n",
        "result  "
      ],
      "execution_count": 0,
      "outputs": [
        {
          "output_type": "execute_result",
          "data": {
            "text/plain": [
              "array([[2., 3., 4.],\n",
              "       [5., 6., 7.]], dtype=float32)"
            ]
          },
          "metadata": {
            "tags": []
          },
          "execution_count": 6
        }
      ]
    },
    {
      "metadata": {
        "id": "FGRwqvx0XQL2",
        "colab_type": "text"
      },
      "cell_type": "markdown",
      "source": [
        "## Interactive visualiztion"
      ]
    },
    {
      "metadata": {
        "id": "O2mgkIOWUCfT",
        "colab_type": "code",
        "colab": {}
      },
      "cell_type": "code",
      "source": [
        "# load an example dataset\n",
        "from vega_datasets import data\n",
        "cars = data.cars()\n",
        "\n",
        "# plot the dataset, referencing dataframe column names\n",
        "import altair as alt\n",
        "alt.Chart(cars).mark_point().encode(\n",
        "  x='Horsepower',\n",
        "  y='Miles_per_Gallon',\n",
        "  color='Origin'\n",
        ").interactive()"
      ],
      "execution_count": 0,
      "outputs": []
    },
    {
      "metadata": {
        "id": "XREWYAUoYFpQ",
        "colab_type": "text"
      },
      "cell_type": "markdown",
      "source": [
        "## Markdown render"
      ]
    },
    {
      "metadata": {
        "id": "-cq9Xn5oUMD4",
        "colab_type": "text"
      },
      "cell_type": "markdown",
      "source": [
        "$\\alpha,  \\beta$\n",
        "\n",
        "$$\\begin{eqnarray}\n",
        "  \\mbox{output} = \\left\\{ \n",
        "    \\begin{array}{ll} \n",
        "      0 & \\mbox{if } w\\cdot x + b \\leq 0 \\\\\n",
        "      1 & \\mbox{if } w\\cdot x + b > 0\n",
        "    \\end{array}\n",
        "  \\right.\\end{eqnarray}$$"
      ]
    },
    {
      "metadata": {
        "id": "3yyCRbgFYPTi",
        "colab_type": "text"
      },
      "cell_type": "markdown",
      "source": [
        "## Forms\n",
        "\n",
        "- Forms provide an easy way to parameterize code. From a code cell, select **Insert → Add form field**.  When you change the value in a form, the corresponding value in the code will change. "
      ]
    },
    {
      "metadata": {
        "id": "ZBcaJR4RYU6s",
        "colab_type": "code",
        "colab": {}
      },
      "cell_type": "code",
      "source": [
        "#@title String fields\n",
        "\n",
        "text = 'value' #@param {type:\"string\"}\n",
        "dropdown = '1st option' #@param [\"1st option\", \"2nd option\", \"3rd option\"]\n",
        "text_and_dropdown = '2nd option' #@param [\"1st option\", \"2nd option\", \"3rd option\"] {allow-input: true}\n",
        "\n"
      ],
      "execution_count": 0,
      "outputs": []
    },
    {
      "metadata": {
        "id": "t42fKXoMYaEk",
        "colab_type": "code",
        "outputId": "82b93b8f-180b-4c01-d698-815324ed0dfb",
        "colab": {
          "base_uri": "https://localhost:8080/",
          "height": 68
        }
      },
      "cell_type": "code",
      "source": [
        "print(text)\n",
        "print(dropdown)\n",
        "print(text_and_dropdown)"
      ],
      "execution_count": 0,
      "outputs": [
        {
          "output_type": "stream",
          "text": [
            "value\n",
            "1st option\n",
            "2nd option\n"
          ],
          "name": "stdout"
        }
      ]
    },
    {
      "metadata": {
        "id": "Vu9Q_gTUYd6b",
        "colab_type": "code",
        "colab": {}
      },
      "cell_type": "code",
      "source": [
        ""
      ],
      "execution_count": 0,
      "outputs": []
    }
  ]
}